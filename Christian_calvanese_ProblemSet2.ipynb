{
  "nbformat": 4,
  "nbformat_minor": 0,
  "metadata": {
    "colab": {
      "provenance": []
    },
    "kernelspec": {
      "name": "python3",
      "display_name": "Python 3"
    },
    "language_info": {
      "name": "python"
    }
  },
  "cells": [
    {
      "cell_type": "markdown",
      "source": [
        "#Problem Set 2\n",
        "\n",
        "This problem set is based on lectures 4,5 and 6. For a complete list of topics please consult page 2 of the course syllabus. Please consult the “Instructions for Problem Set Submissions” document under course information before submitting your assignment.\n"
      ],
      "metadata": {
        "id": "xDqJDSR0OkJ-"
      }
    },
    {
      "cell_type": "markdown",
      "source": [
        "#Question 1\n",
        "\n",
        "Consider the following Python module:\n",
        "a = 0 def b():\n",
        "global a\n",
        "a = c(a)\n",
        "def c(a):\n",
        "return a + 2\n",
        "After importing the module into the interpreter, you execute:\n",
        "\n",
        "b()\n",
        "\n",
        "b()\n",
        "\n",
        "b()\n",
        "\n",
        "a\n",
        "?\n",
        "\n",
        "What value is displayed when the last expression (a) is evaluated? Explain your answer by indicating what happens in every executed statement\n"
      ],
      "metadata": {
        "id": "A24k3Ao2MuA6"
      }
    },
    {
      "cell_type": "code",
      "source": [
        "a = 0  # we create a local variable, we can call it however we want, in this case 'a' and we initialize it as 0\n",
        "\n",
        "def b(): # \"b is a function that used to assign the value c(a) to a.\n",
        " global a # we define the local variable \"a\" as a global one so that we can use it in the function \"c\".\n",
        " a = c(a)\n",
        "\n",
        "def c(a): # \"c\" is a function that add 2 to the value of variable \"a\" each time when the function called.\n",
        " return a + 2\n",
        "\n",
        "b() #te funcion was executed\n",
        "b() # the function was executed\n",
        "b()# the function \"b\" was executed 3 times so that it will increase the value of a by 2 for 3 times.\n",
        "a # prints the final value."
      ],
      "metadata": {
        "colab": {
          "base_uri": "https://localhost:8080/"
        },
        "id": "5LvNLGuUo8Wp",
        "outputId": "a5d8ff54-77a5-46fd-f107-2d12d2bb54e7"
      },
      "execution_count": 1,
      "outputs": [
        {
          "output_type": "execute_result",
          "data": {
            "text/plain": [
              "6"
            ]
          },
          "metadata": {},
          "execution_count": 1
        }
      ]
    },
    {
      "cell_type": "markdown",
      "source": [
        "#Question 2\n",
        "\n",
        "Function  fileLength(), given to you, takes the name of a file as input and returns the length of the file:\n",
        "\n",
        "fileLength('midterm.py') 284\n",
        "fileLength('idterm.py') Traceback (most recent call last):\n",
        "\n",
        "File \"<pyshell#34>\", line 1, in <module> fileLength('idterm.py')\n",
        "\n",
        "File \"/Users/me/midterm.py\", line 3, in fileLength infile = open(filename)\n",
        "\n",
        "FileNotFoundError: [Errno 2] No such file or directory: 'idterm.py'\n",
        "\n",
        "As shown above, if the file cannot be found by the interpreter or if it cannot be read as a text file, an exception will be raised. Modify function fileLength() so that a friendly message is printed instead:\n",
        "\n",
        "fileLength('midterm.py') 358\n",
        "fileLength('idterm.py') File idterm.py not found.\n",
        "\n"
      ],
      "metadata": {
        "id": "0P_b5jAsOZBU"
      }
    },
    {
      "cell_type": "code",
      "source": [
        "def file_length(file_name): #  input is the filename// Returns the lenght.\n",
        "    try:\n",
        "        file = open(file_name,'r')\n",
        "        content = file.read()\n",
        "        file.close()\n",
        "        print(len(content))\n",
        "    except FileNotFoundError as file_error_customized:\n",
        "        print('File {} not found'.format(file_name))  # it will Return the customized error if file not found.\n",
        "\n",
        "\n"
      ],
      "metadata": {
        "id": "DGDQpXYap6Nx"
      },
      "execution_count": 5,
      "outputs": []
    },
    {
      "cell_type": "code",
      "source": [
        "file_length('/content/Filelength.txt')"
      ],
      "metadata": {
        "colab": {
          "base_uri": "https://localhost:8080/"
        },
        "id": "TQVjrdx1qY-j",
        "outputId": "3e8c93ee-3a64-4565-db63-a602845eb626"
      },
      "execution_count": 6,
      "outputs": [
        {
          "output_type": "stream",
          "name": "stdout",
          "text": [
            "123\n"
          ]
        }
      ]
    },
    {
      "cell_type": "code",
      "source": [
        "file_length('idterm.py')"
      ],
      "metadata": {
        "colab": {
          "base_uri": "https://localhost:8080/"
        },
        "id": "NAOTB7J8qetM",
        "outputId": "813de29f-42d7-48ae-e3a9-5ea0f1b900d9"
      },
      "execution_count": 7,
      "outputs": [
        {
          "output_type": "stream",
          "name": "stdout",
          "text": [
            "File idterm.py not found\n"
          ]
        }
      ]
    },
    {
      "cell_type": "markdown",
      "source": [
        "#Question 3\n",
        "Write a class named Marsupial that can be used as shown below:\n",
        "\n",
        " m = Marsupial()\n",
        "\n",
        " m.put_in_pouch('doll')\n",
        "\n",
        " m.put_in_pouch('firetruck')\n",
        "\n",
        " m.put_in_pouch('kitten')\n",
        "\n",
        " m.pouch_contents() ['doll', 'firetruck', 'kitten']\n",
        "\n",
        " Now write a class named Kangaroo as a subclass of Marsupial that inherits all the attributes of Marsupial and also:\n",
        "\n",
        "a.\textends the Marsupial  init constructor to take, as input, the coordinates x and y of the Kangaroo object,\n",
        "\n",
        "b.\tsupports method jump that takes number values dx and dy as input and moves the kangaroo by dx units along the x-axis and by dy units along the y- axis, and\n",
        "\n",
        "c.\toverloads the \tstr  operator so it behaves as shown below.\n",
        "\n",
        " k = Kangaroo(0,0)\n",
        "\n",
        " print(k)\n",
        "\n",
        "I am a Kangaroo located at coordinates (0,0)\n",
        "\n",
        " k.put_in_pouch('doll')\n",
        "\n",
        " k.put_in_pouch('firetruck')\n",
        "\n",
        " k.put_in_pouch('kitten')\n",
        "\n",
        " k.pouch_contents() ['doll', 'firetruck', 'kitten']\n",
        "\n",
        " k.jump(1,0)\n",
        "\n",
        " k.jump(1,0)\n",
        "\n",
        " k.jump(1,0)\n",
        "\n",
        " print(k)\n",
        "\n",
        "I am a Kangaroo located at coordinates (3,0)\n",
        "\n"
      ],
      "metadata": {
        "id": "ZwnEeHVNPP2q"
      }
    },
    {
      "cell_type": "code",
      "source": [
        "class Marsupial:   # Marsupial Class\n",
        "    itemL=[]\n",
        "\n",
        "    def put_in_pouch(self,item):\n",
        "        self.itemL.append(item)\n",
        "\n",
        "    def pouch_contents(self):\n",
        "        return self.itemL\n",
        "\n",
        "m=Marsupial()\n",
        "m.put_in_pouch(\"doll\")\n",
        "m.put_in_pouch(\"firetruck\")\n",
        "m.put_in_pouch(\"kitten\")\n",
        "m.pouch_contents()"
      ],
      "metadata": {
        "colab": {
          "base_uri": "https://localhost:8080/"
        },
        "id": "K9g8Z8jSMx3I",
        "outputId": "7314abaf-1243-4aff-c582-db2b19cbc614"
      },
      "execution_count": 10,
      "outputs": [
        {
          "output_type": "execute_result",
          "data": {
            "text/plain": [
              "['doll', 'firetruck', 'kitten']"
            ]
          },
          "metadata": {},
          "execution_count": 10
        }
      ]
    },
    {
      "cell_type": "markdown",
      "source": [
        "Second part of the answer:"
      ],
      "metadata": {
        "id": "PLGtvgwBrxQ3"
      }
    },
    {
      "cell_type": "code",
      "source": [
        "class Kangaroo(Marsupial):    # class called Kangaroo\n",
        "    def __init__(self,x1,y1):\n",
        "        self.x = x1\n",
        "        self.y = y1\n",
        "        Marsupial.__init__(self)\n",
        "\n",
        "    def jump(self,x1,y1):\n",
        "        self.x = self.x + x1\n",
        "        self.y = self.y + y1\n",
        "\n",
        "    def __str__(self):\n",
        "        return 'I am a Kangaroo located at coordinates ({}, {})'.format(self.x, self.y)\n",
        "\n",
        "\n",
        "\n",
        "k = Kangaroo(0,0)\n",
        "print (k)"
      ],
      "metadata": {
        "colab": {
          "base_uri": "https://localhost:8080/"
        },
        "id": "-D9_GJ0TrzUy",
        "outputId": "42c5e161-20a5-416a-cd02-0421a92d3e40"
      },
      "execution_count": 9,
      "outputs": [
        {
          "output_type": "stream",
          "name": "stdout",
          "text": [
            "I am a Kangaroo located at coordinates (0, 0)\n"
          ]
        }
      ]
    },
    {
      "cell_type": "code",
      "source": [
        "k.put_in_pouch(\"doll\")\n",
        "k.put_in_pouch(\"firetruck\")\n",
        "k.put_in_pouch(\"kitten\")\n",
        "k.pouch_contents()"
      ],
      "metadata": {
        "colab": {
          "base_uri": "https://localhost:8080/"
        },
        "id": "mUvwzX85sXsq",
        "outputId": "dfa9057c-4785-4550-af89-bbfc8ca0723b"
      },
      "execution_count": 11,
      "outputs": [
        {
          "output_type": "execute_result",
          "data": {
            "text/plain": [
              "['doll', 'firetruck', 'kitten', 'doll', 'firetruck', 'kitten']"
            ]
          },
          "metadata": {},
          "execution_count": 11
        }
      ]
    },
    {
      "cell_type": "code",
      "source": [
        "k.jump(1,0)\n",
        "k.jump(1,0)\n",
        "k.jump(1,0)\n",
        "print(k)"
      ],
      "metadata": {
        "colab": {
          "base_uri": "https://localhost:8080/"
        },
        "id": "ElQcdNVusYuX",
        "outputId": "5ebafda1-1b43-4dd0-d53e-f905369695b3"
      },
      "execution_count": 12,
      "outputs": [
        {
          "output_type": "stream",
          "name": "stdout",
          "text": [
            "I am a Kangaroo located at coordinates (3, 0)\n"
          ]
        }
      ]
    },
    {
      "cell_type": "markdown",
      "source": [
        "# Question 4\n",
        "\n",
        "Write function collatz() that takes a positive integer x as input and prints the Collatz sequence starting at x. A Collatz sequence is obtained by repeatedly applying this rule to the previous number x in the sequence:\n",
        "\n",
        "x = { 𝑥/2\t𝑖𝑓 𝑥 𝑖𝑠 𝑒𝑣𝑒𝑛 3𝑥 + 1\t 𝑖𝑓 𝑥 𝑖𝑠 𝑜𝑑𝑑\n",
        "\n",
        "Your function should stop when the sequence gets to number 1. Your implementation must be recursive, without any loops.\n",
        "\n"
      ],
      "metadata": {
        "id": "iaQV5Ra1PhuL"
      }
    },
    {
      "cell_type": "code",
      "source": [
        "def collatz(num):\n",
        "\n",
        "    if(num==1):\n",
        "        print(1)\n",
        "        return\n",
        "    print(int(num))\n",
        "\n",
        "    if(num%2==0): #odd or even\n",
        "        num=num/2\n",
        "    else:\n",
        "        num=3*num+1\n",
        "    return(collatz(num))"
      ],
      "metadata": {
        "id": "NXKkbgtaPtA0"
      },
      "execution_count": 16,
      "outputs": []
    },
    {
      "cell_type": "code",
      "source": [
        "collatz(1)"
      ],
      "metadata": {
        "colab": {
          "base_uri": "https://localhost:8080/"
        },
        "id": "utdp8HAlszvE",
        "outputId": "6a1e42f7-aad0-4890-83c2-743418b23a70"
      },
      "execution_count": 17,
      "outputs": [
        {
          "output_type": "stream",
          "name": "stdout",
          "text": [
            "1\n"
          ]
        }
      ]
    },
    {
      "cell_type": "code",
      "source": [
        "collatz(10)"
      ],
      "metadata": {
        "colab": {
          "base_uri": "https://localhost:8080/"
        },
        "id": "FN4rF5ejs6gH",
        "outputId": "8abddb44-5339-45e7-f2cf-0883a79cb641"
      },
      "execution_count": 20,
      "outputs": [
        {
          "output_type": "stream",
          "name": "stdout",
          "text": [
            "10\n",
            "5\n",
            "16\n",
            "8\n",
            "4\n",
            "2\n",
            "1\n"
          ]
        }
      ]
    },
    {
      "cell_type": "markdown",
      "source": [
        "#Question 5\n",
        "\n",
        "Write a recursive method binary() that takes a non-negative integer n and prints the binary representation of integer n.\n",
        "\n",
        "binary(0) 0\n",
        "\n",
        "binary(1) 1\n",
        "\n",
        "binary(3) 11\n",
        "\n",
        "binary(9) 1001\n",
        "\n"
      ],
      "metadata": {
        "id": "vzw7zw68P3-6"
      }
    },
    {
      "cell_type": "code",
      "source": [
        "def binary(integer):         #defining a function called binary.\n",
        "\n",
        "    try:\n",
        "        if(integer<0):\n",
        "            raise ValueError        #check whether the number is less than zero and raise the value error if true.\n",
        "        if integer > 1:\n",
        "            binary(integer//2)            # assigning the original value with the floor division of 2 calculated into it\n",
        "        print (integer % 2, end = '')     # for get the  remainder\n",
        "    except ValueError:\n",
        "        print('Value should not be negative.')"
      ],
      "metadata": {
        "id": "h2Wv2JTHQJjd"
      },
      "execution_count": 21,
      "outputs": []
    },
    {
      "cell_type": "code",
      "source": [
        "binary(0)"
      ],
      "metadata": {
        "colab": {
          "base_uri": "https://localhost:8080/"
        },
        "id": "h0Q6ke3ytfpo",
        "outputId": "063750b2-aeea-413f-e652-1977f652c80c"
      },
      "execution_count": 22,
      "outputs": [
        {
          "output_type": "stream",
          "name": "stdout",
          "text": [
            "0"
          ]
        }
      ]
    },
    {
      "cell_type": "code",
      "source": [
        "binary(1)"
      ],
      "metadata": {
        "colab": {
          "base_uri": "https://localhost:8080/"
        },
        "id": "1Ly9bEydtfPK",
        "outputId": "ad9d9ab6-d577-4df8-c91e-7d8c13936902"
      },
      "execution_count": 23,
      "outputs": [
        {
          "output_type": "stream",
          "name": "stdout",
          "text": [
            "1"
          ]
        }
      ]
    },
    {
      "cell_type": "code",
      "source": [
        "binary(3)"
      ],
      "metadata": {
        "colab": {
          "base_uri": "https://localhost:8080/"
        },
        "id": "vuWL6av_tfJv",
        "outputId": "dd5f952e-a16a-4f63-fff9-9579d1243f3b"
      },
      "execution_count": 24,
      "outputs": [
        {
          "output_type": "stream",
          "name": "stdout",
          "text": [
            "11"
          ]
        }
      ]
    },
    {
      "cell_type": "code",
      "source": [
        "binary(9)"
      ],
      "metadata": {
        "colab": {
          "base_uri": "https://localhost:8080/"
        },
        "id": "Ibao0THWtfCv",
        "outputId": "8e9db9df-3b5b-45be-f15f-7d7c0414de3b"
      },
      "execution_count": 26,
      "outputs": [
        {
          "output_type": "stream",
          "name": "stdout",
          "text": [
            "1001"
          ]
        }
      ]
    },
    {
      "cell_type": "markdown",
      "source": [
        "#Question 6\n",
        "\n",
        "Implement a class named HeadingParser that can be used to parse an HTML document, and retrieve and print all the headings in the document. You should implement your class as a subclass of HTMLParser, defined in Standard Library module html.parser. When fed a string containing HTML code, your class should print the headings, one per line and in the order in which they appear in the document. Each heading should be indented as follows: an h1 heading should have indentation 0, and h2 heading should have indentation 1, etc. Test your implementation using w3c.html.\n",
        "\n",
        "infile = open('w3c.html')\n",
        "\n",
        "content = infile.read()\n",
        "\n",
        "infile.close()\n",
        "\n",
        "hp = HeadingParser()\n",
        "\n",
        "hp.feed(content)\n",
        "\n",
        "W3C Mission Principles\n",
        "\n"
      ],
      "metadata": {
        "id": "MEfQI1_kRIue"
      }
    },
    {
      "cell_type": "code",
      "source": [
        "from html.parser import HTMLParser\n",
        "\n",
        "class HeadingParser(HTMLParser):\n",
        "\n",
        "    def __init__(self):\n",
        "        super().__init__()\n",
        "        self.tag = None  # Initialize self.tag to None\n",
        "\n",
        "    def handle_starttag(self, tag, attrs):   # start function\n",
        "        self.tag = tag\n",
        "\n",
        "    def handle_data(self, data):               # heading of HTML\n",
        "        if self.tag in ['h1','h2','h3','h4','h5','h6']:\n",
        "            n=int(self.tag[1])\n",
        "            print (n*' '+data, end = '')\n",
        "\n",
        "infile = open('/content/w3c.txt')  #HTML location\n",
        "content = infile.read()\n",
        "infile.close()\n",
        "parser = HeadingParser()\n",
        "parser.feed(content)"
      ],
      "metadata": {
        "colab": {
          "base_uri": "https://localhost:8080/"
        },
        "id": "56Q2LmDWRZMz",
        "outputId": "68b4afe5-7641-4015-8173-90c04fb2d9ba"
      },
      "execution_count": 37,
      "outputs": [
        {
          "output_type": "stream",
          "name": "stdout",
          "text": [
            " W3C Mission \n",
            "\t  Principles  \n",
            " \n",
            "\n",
            "\n",
            "  \n"
          ]
        }
      ]
    },
    {
      "cell_type": "markdown",
      "source": [
        "#Question 7\n",
        "\n",
        "Implement recursive function webdir() that takes as input: a URL (as a string) and non-negative integers depth and indent. Your function should visit every web page reachable from the starting URL web page in depth clicks or less, and print each web page's URL.\n",
        "As shown below, indentation, specified by indent, should be used to indicate the depth of a URL.\n",
        "\n",
        "webdir('http://reed.cs.depaul.edu/lperkovic/csc242/test1.html'\n",
        ", 2, 0)\n",
        "http://reed.cs.depaul.edu/lperkovic/csc242/test1.html http://reed.cs.depaul.edu/lperkovic/csc242/test2.html\n",
        "http://reed.cs.depaul.edu/lperkovic/csc242/test4.html http://reed.cs.depaul.edu/lperkovic/csc242/test3.html\n",
        "http://reed.cs.depaul.edu/lperkovic/csc242/test4.html\n"
      ],
      "metadata": {
        "id": "nKykGmBCRis4"
      }
    },
    {
      "cell_type": "code",
      "source": [
        "from html.parser import HTMLParser\n",
        "from urllib.request import urlopen\n",
        "from urllib.parse import urljoin\n",
        "\n",
        "class Appender(HTMLParser):\n",
        "\n",
        "\n",
        "    def __init__(self, url):\n",
        "\n",
        "        HTMLParser.__init__(self)\n",
        "        self.url = url\n",
        "        self.url_links = []\n",
        "\n",
        "\n",
        "    def append(self):\n",
        "\n",
        "        return self.url_links\n",
        "\n",
        "\n",
        "\n",
        "\n",
        "    def handle_starttag(self, url_tag, attributes):\n",
        "        for a in attributes:\n",
        "            ab = urljoin(self.url, a[1])\n",
        "            if ab[:4] == 'http':\n",
        "                self.url_links.append(ab)\n",
        "i = 0\n",
        "def webdir(url, depth, i):\n",
        "\n",
        "\n",
        "    depth = depth - 1\n",
        "    print(i*'  ', url)\n",
        "\n",
        "    objective = urlopen(url).read().decode()\n",
        "    collection = Appender(url)\n",
        "    collection.feed(objective)\n",
        "    urls = collection.append()\n",
        "\n",
        "    url_links = urls\n",
        "    i= i + 4\n",
        "\n",
        "\n",
        "    for link in url_links:\n",
        "        if depth < 0 or i < 0:\n",
        "            return 1\n",
        "        else:\n",
        "            webdir(link, depth, i)\n",
        "\n",
        "\n",
        "\n",
        "webdir('http://reed.cs.depaul.edu/lperkovic/test1.html', 2, 0)"
      ],
      "metadata": {
        "colab": {
          "base_uri": "https://localhost:8080/"
        },
        "id": "5HK_8RGWRyZO",
        "outputId": "4ef0f8c2-5f95-431f-a004-3f580b1217ec"
      },
      "execution_count": 38,
      "outputs": [
        {
          "output_type": "stream",
          "name": "stdout",
          "text": [
            " http://reed.cs.depaul.edu/lperkovic/test1.html\n",
            "         http://reed.cs.depaul.edu/lperkovic/test2.html\n",
            "                 http://reed.cs.depaul.edu/lperkovic/test4.html\n",
            "         http://reed.cs.depaul.edu/lperkovic/test3.html\n",
            "                 http://reed.cs.depaul.edu/lperkovic/test4.html\n"
          ]
        }
      ]
    },
    {
      "cell_type": "markdown",
      "source": [
        "#Question 8\n",
        "\n",
        "Write SQL queries on the below database table that return:\n",
        "\n",
        " a) All the temperature data.\n",
        "\n",
        " b) All the cities, but without repetition.\n",
        "\n",
        " c) All the records for India.\n",
        "\n",
        " d) All the Fall records.\n",
        "\n",
        " e) The city, country, and season for which the average rainfall is between 200 and 400 millimeters.\n",
        "\n",
        "  f) The city and country for which the average Fall temperature is above 20 degrees, in increasing temperature order.\n",
        "  \n",
        "  g) The total annual rainfall for Cairo.\n",
        "  \n",
        "  h) The total rainfall for each season.\n",
        "\n",
        "City Country Season Temperature (C) Rainfall (mm) Mumbai India Winter 24.8 5.9 Mumbai India Spring 28.4 16.2 Mumbai India Summer 27.9 1549.4 Mumbai India Fall 27.6 346.0 London United Kingdom Winter 4.2 207.7 London United Kingdom Spring 8.3 169.6 London United Kingdom Summer 15.7 157.0 London United Kingdom Fall 10.4 218.5 Cairo Egypt Winter 13.6 16.5 Cairo Egypt Spring 20.7 6.5 Cairo Egypt Summer 27.7 0.1 Cairo Egypt Fall 22.2 4.5"
      ],
      "metadata": {
        "id": "6T4JOpsHUJ3g"
      }
    },
    {
      "cell_type": "code",
      "source": [
        "%load_ext sql"
      ],
      "metadata": {
        "id": "HNmpWqfMSSVf"
      },
      "execution_count": 39,
      "outputs": []
    },
    {
      "cell_type": "code",
      "source": [
        "%sql sqlite://"
      ],
      "metadata": {
        "id": "FVWSljanwWo-"
      },
      "execution_count": 40,
      "outputs": []
    },
    {
      "cell_type": "code",
      "source": [
        "%%sql\n",
        "CREATE TABLE Record(City varchar(50), Country varchar(50), Season varchar(50), Temperature int, Rainfall int);\n",
        "INSERT INTO Record VALUES\n",
        "('Mumbai','India', 'Winter',24.8,5.9),\n",
        "('Mumbai','India', 'Spring',28.8,16.2),\n",
        "('Mumbai','India', 'Summer',27.9,1549.4),\n",
        "('Mumbai','India', 'Fall',27.6,346.0 ),\n",
        "('London','United Kingdom','Winter',4.2,207.7 ),\n",
        "('London','United Kingdom','Spring',8.3,169.6 ),\n",
        "('London','United Kingdom','Summer', 15.7,157.0),\n",
        "('London','United Kingdom','Fall', 10.4,218.5),\n",
        "('Cairo','Egypt','Winter', 13.6,16.5),\n",
        "('Cairo','Egypt','Spring', 20.7,6.5),\n",
        "('Cairo','Egypt','Summer',27.7,0.1),\n",
        "('Cairo','Egypt','Fall', 22.2,4.5);\n",
        "select * from record;"
      ],
      "metadata": {
        "colab": {
          "base_uri": "https://localhost:8080/",
          "height": 360
        },
        "id": "KosGWgaNwWeB",
        "outputId": "c694a348-b02d-4d88-8d2a-49aad3b3738f"
      },
      "execution_count": 41,
      "outputs": [
        {
          "output_type": "stream",
          "name": "stdout",
          "text": [
            " * sqlite://\n",
            "Done.\n",
            "12 rows affected.\n",
            "Done.\n"
          ]
        },
        {
          "output_type": "execute_result",
          "data": {
            "text/plain": [
              "[('Mumbai', 'India', 'Winter', 24.8, 5.9),\n",
              " ('Mumbai', 'India', 'Spring', 28.8, 16.2),\n",
              " ('Mumbai', 'India', 'Summer', 27.9, 1549.4),\n",
              " ('Mumbai', 'India', 'Fall', 27.6, 346),\n",
              " ('London', 'United Kingdom', 'Winter', 4.2, 207.7),\n",
              " ('London', 'United Kingdom', 'Spring', 8.3, 169.6),\n",
              " ('London', 'United Kingdom', 'Summer', 15.7, 157),\n",
              " ('London', 'United Kingdom', 'Fall', 10.4, 218.5),\n",
              " ('Cairo', 'Egypt', 'Winter', 13.6, 16.5),\n",
              " ('Cairo', 'Egypt', 'Spring', 20.7, 6.5),\n",
              " ('Cairo', 'Egypt', 'Summer', 27.7, 0.1),\n",
              " ('Cairo', 'Egypt', 'Fall', 22.2, 4.5)]"
            ],
            "text/html": [
              "<table>\n",
              "    <thead>\n",
              "        <tr>\n",
              "            <th>City</th>\n",
              "            <th>Country</th>\n",
              "            <th>Season</th>\n",
              "            <th>Temperature</th>\n",
              "            <th>Rainfall</th>\n",
              "        </tr>\n",
              "    </thead>\n",
              "    <tbody>\n",
              "        <tr>\n",
              "            <td>Mumbai</td>\n",
              "            <td>India</td>\n",
              "            <td>Winter</td>\n",
              "            <td>24.8</td>\n",
              "            <td>5.9</td>\n",
              "        </tr>\n",
              "        <tr>\n",
              "            <td>Mumbai</td>\n",
              "            <td>India</td>\n",
              "            <td>Spring</td>\n",
              "            <td>28.8</td>\n",
              "            <td>16.2</td>\n",
              "        </tr>\n",
              "        <tr>\n",
              "            <td>Mumbai</td>\n",
              "            <td>India</td>\n",
              "            <td>Summer</td>\n",
              "            <td>27.9</td>\n",
              "            <td>1549.4</td>\n",
              "        </tr>\n",
              "        <tr>\n",
              "            <td>Mumbai</td>\n",
              "            <td>India</td>\n",
              "            <td>Fall</td>\n",
              "            <td>27.6</td>\n",
              "            <td>346</td>\n",
              "        </tr>\n",
              "        <tr>\n",
              "            <td>London</td>\n",
              "            <td>United Kingdom</td>\n",
              "            <td>Winter</td>\n",
              "            <td>4.2</td>\n",
              "            <td>207.7</td>\n",
              "        </tr>\n",
              "        <tr>\n",
              "            <td>London</td>\n",
              "            <td>United Kingdom</td>\n",
              "            <td>Spring</td>\n",
              "            <td>8.3</td>\n",
              "            <td>169.6</td>\n",
              "        </tr>\n",
              "        <tr>\n",
              "            <td>London</td>\n",
              "            <td>United Kingdom</td>\n",
              "            <td>Summer</td>\n",
              "            <td>15.7</td>\n",
              "            <td>157</td>\n",
              "        </tr>\n",
              "        <tr>\n",
              "            <td>London</td>\n",
              "            <td>United Kingdom</td>\n",
              "            <td>Fall</td>\n",
              "            <td>10.4</td>\n",
              "            <td>218.5</td>\n",
              "        </tr>\n",
              "        <tr>\n",
              "            <td>Cairo</td>\n",
              "            <td>Egypt</td>\n",
              "            <td>Winter</td>\n",
              "            <td>13.6</td>\n",
              "            <td>16.5</td>\n",
              "        </tr>\n",
              "        <tr>\n",
              "            <td>Cairo</td>\n",
              "            <td>Egypt</td>\n",
              "            <td>Spring</td>\n",
              "            <td>20.7</td>\n",
              "            <td>6.5</td>\n",
              "        </tr>\n",
              "        <tr>\n",
              "            <td>Cairo</td>\n",
              "            <td>Egypt</td>\n",
              "            <td>Summer</td>\n",
              "            <td>27.7</td>\n",
              "            <td>0.1</td>\n",
              "        </tr>\n",
              "        <tr>\n",
              "            <td>Cairo</td>\n",
              "            <td>Egypt</td>\n",
              "            <td>Fall</td>\n",
              "            <td>22.2</td>\n",
              "            <td>4.5</td>\n",
              "        </tr>\n",
              "    </tbody>\n",
              "</table>"
            ]
          },
          "metadata": {},
          "execution_count": 41
        }
      ]
    },
    {
      "cell_type": "markdown",
      "source": [
        " a) All the temperature data.\n",
        " ___\n"
      ],
      "metadata": {
        "id": "pgVuh4mAwsBx"
      }
    },
    {
      "cell_type": "code",
      "source": [
        "%sql SELECT Temperature FROM Record;"
      ],
      "metadata": {
        "colab": {
          "base_uri": "https://localhost:8080/",
          "height": 326
        },
        "id": "7f3e3v71wiXO",
        "outputId": "288ecd42-1a66-4ed0-c36e-6d4a2b20882c"
      },
      "execution_count": 42,
      "outputs": [
        {
          "output_type": "stream",
          "name": "stdout",
          "text": [
            " * sqlite://\n",
            "Done.\n"
          ]
        },
        {
          "output_type": "execute_result",
          "data": {
            "text/plain": [
              "[(24.8,),\n",
              " (28.8,),\n",
              " (27.9,),\n",
              " (27.6,),\n",
              " (4.2,),\n",
              " (8.3,),\n",
              " (15.7,),\n",
              " (10.4,),\n",
              " (13.6,),\n",
              " (20.7,),\n",
              " (27.7,),\n",
              " (22.2,)]"
            ],
            "text/html": [
              "<table>\n",
              "    <thead>\n",
              "        <tr>\n",
              "            <th>Temperature</th>\n",
              "        </tr>\n",
              "    </thead>\n",
              "    <tbody>\n",
              "        <tr>\n",
              "            <td>24.8</td>\n",
              "        </tr>\n",
              "        <tr>\n",
              "            <td>28.8</td>\n",
              "        </tr>\n",
              "        <tr>\n",
              "            <td>27.9</td>\n",
              "        </tr>\n",
              "        <tr>\n",
              "            <td>27.6</td>\n",
              "        </tr>\n",
              "        <tr>\n",
              "            <td>4.2</td>\n",
              "        </tr>\n",
              "        <tr>\n",
              "            <td>8.3</td>\n",
              "        </tr>\n",
              "        <tr>\n",
              "            <td>15.7</td>\n",
              "        </tr>\n",
              "        <tr>\n",
              "            <td>10.4</td>\n",
              "        </tr>\n",
              "        <tr>\n",
              "            <td>13.6</td>\n",
              "        </tr>\n",
              "        <tr>\n",
              "            <td>20.7</td>\n",
              "        </tr>\n",
              "        <tr>\n",
              "            <td>27.7</td>\n",
              "        </tr>\n",
              "        <tr>\n",
              "            <td>22.2</td>\n",
              "        </tr>\n",
              "    </tbody>\n",
              "</table>"
            ]
          },
          "metadata": {},
          "execution_count": 42
        }
      ]
    },
    {
      "cell_type": "markdown",
      "source": [
        "b) All the cities, but without repetition.\n",
        "___\n"
      ],
      "metadata": {
        "id": "rFOpgdJpwxTO"
      }
    },
    {
      "cell_type": "code",
      "source": [
        "%sql SELECT DISTINCT City FROM Record;"
      ],
      "metadata": {
        "colab": {
          "base_uri": "https://localhost:8080/",
          "height": 137
        },
        "id": "YBp2MjsYwk69",
        "outputId": "1db621b4-754e-41be-c033-9738d0a4aefa"
      },
      "execution_count": 43,
      "outputs": [
        {
          "output_type": "stream",
          "name": "stdout",
          "text": [
            " * sqlite://\n",
            "Done.\n"
          ]
        },
        {
          "output_type": "execute_result",
          "data": {
            "text/plain": [
              "[('Mumbai',), ('London',), ('Cairo',)]"
            ],
            "text/html": [
              "<table>\n",
              "    <thead>\n",
              "        <tr>\n",
              "            <th>City</th>\n",
              "        </tr>\n",
              "    </thead>\n",
              "    <tbody>\n",
              "        <tr>\n",
              "            <td>Mumbai</td>\n",
              "        </tr>\n",
              "        <tr>\n",
              "            <td>London</td>\n",
              "        </tr>\n",
              "        <tr>\n",
              "            <td>Cairo</td>\n",
              "        </tr>\n",
              "    </tbody>\n",
              "</table>"
            ]
          },
          "metadata": {},
          "execution_count": 43
        }
      ]
    },
    {
      "cell_type": "markdown",
      "source": [
        "c) All the records for India.\n",
        "___\n"
      ],
      "metadata": {
        "id": "yfH6Bv4Sw2gp"
      }
    },
    {
      "cell_type": "code",
      "source": [
        "%sql SELECT * FROM Record WHERE Country = 'India';"
      ],
      "metadata": {
        "colab": {
          "base_uri": "https://localhost:8080/",
          "height": 158
        },
        "id": "B3ALrH7dw61H",
        "outputId": "b06b3977-c287-4941-c457-692e74c5c8a7"
      },
      "execution_count": 44,
      "outputs": [
        {
          "output_type": "stream",
          "name": "stdout",
          "text": [
            " * sqlite://\n",
            "Done.\n"
          ]
        },
        {
          "output_type": "execute_result",
          "data": {
            "text/plain": [
              "[('Mumbai', 'India', 'Winter', 24.8, 5.9),\n",
              " ('Mumbai', 'India', 'Spring', 28.8, 16.2),\n",
              " ('Mumbai', 'India', 'Summer', 27.9, 1549.4),\n",
              " ('Mumbai', 'India', 'Fall', 27.6, 346)]"
            ],
            "text/html": [
              "<table>\n",
              "    <thead>\n",
              "        <tr>\n",
              "            <th>City</th>\n",
              "            <th>Country</th>\n",
              "            <th>Season</th>\n",
              "            <th>Temperature</th>\n",
              "            <th>Rainfall</th>\n",
              "        </tr>\n",
              "    </thead>\n",
              "    <tbody>\n",
              "        <tr>\n",
              "            <td>Mumbai</td>\n",
              "            <td>India</td>\n",
              "            <td>Winter</td>\n",
              "            <td>24.8</td>\n",
              "            <td>5.9</td>\n",
              "        </tr>\n",
              "        <tr>\n",
              "            <td>Mumbai</td>\n",
              "            <td>India</td>\n",
              "            <td>Spring</td>\n",
              "            <td>28.8</td>\n",
              "            <td>16.2</td>\n",
              "        </tr>\n",
              "        <tr>\n",
              "            <td>Mumbai</td>\n",
              "            <td>India</td>\n",
              "            <td>Summer</td>\n",
              "            <td>27.9</td>\n",
              "            <td>1549.4</td>\n",
              "        </tr>\n",
              "        <tr>\n",
              "            <td>Mumbai</td>\n",
              "            <td>India</td>\n",
              "            <td>Fall</td>\n",
              "            <td>27.6</td>\n",
              "            <td>346</td>\n",
              "        </tr>\n",
              "    </tbody>\n",
              "</table>"
            ]
          },
          "metadata": {},
          "execution_count": 44
        }
      ]
    },
    {
      "cell_type": "markdown",
      "source": [
        "d) All the Fall records.\n",
        "___"
      ],
      "metadata": {
        "id": "RsCW-AQ9xvnG"
      }
    },
    {
      "cell_type": "code",
      "source": [
        "%sql SELECT * FROM Record WHERE Season = 'Fall';"
      ],
      "metadata": {
        "colab": {
          "base_uri": "https://localhost:8080/",
          "height": 137
        },
        "id": "U9pRRC_fx4_8",
        "outputId": "ec72ada7-93c8-4b27-b6c4-8ca127289a4f"
      },
      "execution_count": 45,
      "outputs": [
        {
          "output_type": "stream",
          "name": "stdout",
          "text": [
            " * sqlite://\n",
            "Done.\n"
          ]
        },
        {
          "output_type": "execute_result",
          "data": {
            "text/plain": [
              "[('Mumbai', 'India', 'Fall', 27.6, 346),\n",
              " ('London', 'United Kingdom', 'Fall', 10.4, 218.5),\n",
              " ('Cairo', 'Egypt', 'Fall', 22.2, 4.5)]"
            ],
            "text/html": [
              "<table>\n",
              "    <thead>\n",
              "        <tr>\n",
              "            <th>City</th>\n",
              "            <th>Country</th>\n",
              "            <th>Season</th>\n",
              "            <th>Temperature</th>\n",
              "            <th>Rainfall</th>\n",
              "        </tr>\n",
              "    </thead>\n",
              "    <tbody>\n",
              "        <tr>\n",
              "            <td>Mumbai</td>\n",
              "            <td>India</td>\n",
              "            <td>Fall</td>\n",
              "            <td>27.6</td>\n",
              "            <td>346</td>\n",
              "        </tr>\n",
              "        <tr>\n",
              "            <td>London</td>\n",
              "            <td>United Kingdom</td>\n",
              "            <td>Fall</td>\n",
              "            <td>10.4</td>\n",
              "            <td>218.5</td>\n",
              "        </tr>\n",
              "        <tr>\n",
              "            <td>Cairo</td>\n",
              "            <td>Egypt</td>\n",
              "            <td>Fall</td>\n",
              "            <td>22.2</td>\n",
              "            <td>4.5</td>\n",
              "        </tr>\n",
              "    </tbody>\n",
              "</table>"
            ]
          },
          "metadata": {},
          "execution_count": 45
        }
      ]
    },
    {
      "cell_type": "markdown",
      "source": [
        "e) The city, country, and season for which the average rainfall is between 200 and 400 millimeters.\n",
        "___"
      ],
      "metadata": {
        "id": "mdaCbOAQx8xu"
      }
    },
    {
      "cell_type": "code",
      "source": [
        "%sql SELECT City, Country, Season FROM Record WHERE Rainfall BETWEEN 200 And 400;"
      ],
      "metadata": {
        "colab": {
          "base_uri": "https://localhost:8080/",
          "height": 137
        },
        "id": "7ifawyv5x_7h",
        "outputId": "368c6e53-3e11-4d80-db8d-84734ac9eb61"
      },
      "execution_count": 46,
      "outputs": [
        {
          "output_type": "stream",
          "name": "stdout",
          "text": [
            " * sqlite://\n",
            "Done.\n"
          ]
        },
        {
          "output_type": "execute_result",
          "data": {
            "text/plain": [
              "[('Mumbai', 'India', 'Fall'),\n",
              " ('London', 'United Kingdom', 'Winter'),\n",
              " ('London', 'United Kingdom', 'Fall')]"
            ],
            "text/html": [
              "<table>\n",
              "    <thead>\n",
              "        <tr>\n",
              "            <th>City</th>\n",
              "            <th>Country</th>\n",
              "            <th>Season</th>\n",
              "        </tr>\n",
              "    </thead>\n",
              "    <tbody>\n",
              "        <tr>\n",
              "            <td>Mumbai</td>\n",
              "            <td>India</td>\n",
              "            <td>Fall</td>\n",
              "        </tr>\n",
              "        <tr>\n",
              "            <td>London</td>\n",
              "            <td>United Kingdom</td>\n",
              "            <td>Winter</td>\n",
              "        </tr>\n",
              "        <tr>\n",
              "            <td>London</td>\n",
              "            <td>United Kingdom</td>\n",
              "            <td>Fall</td>\n",
              "        </tr>\n",
              "    </tbody>\n",
              "</table>"
            ]
          },
          "metadata": {},
          "execution_count": 46
        }
      ]
    },
    {
      "cell_type": "markdown",
      "source": [
        "f) The city and country for which the average Fall temperature is above 20 degrees, in increasing temperature order.\n",
        "___"
      ],
      "metadata": {
        "id": "aulmy0jXyGQt"
      }
    },
    {
      "cell_type": "code",
      "source": [
        "%sql SELECT City, Country FROM Record WHERE Season = 'Fall' AND Temperature >20 ORDER BY Temperature ASC;"
      ],
      "metadata": {
        "colab": {
          "base_uri": "https://localhost:8080/",
          "height": 116
        },
        "id": "xGjGT6_CyLPe",
        "outputId": "0f9c8349-ba1b-4e47-c959-55dab25e9ee5"
      },
      "execution_count": 47,
      "outputs": [
        {
          "output_type": "stream",
          "name": "stdout",
          "text": [
            " * sqlite://\n",
            "Done.\n"
          ]
        },
        {
          "output_type": "execute_result",
          "data": {
            "text/plain": [
              "[('Cairo', 'Egypt'), ('Mumbai', 'India')]"
            ],
            "text/html": [
              "<table>\n",
              "    <thead>\n",
              "        <tr>\n",
              "            <th>City</th>\n",
              "            <th>Country</th>\n",
              "        </tr>\n",
              "    </thead>\n",
              "    <tbody>\n",
              "        <tr>\n",
              "            <td>Cairo</td>\n",
              "            <td>Egypt</td>\n",
              "        </tr>\n",
              "        <tr>\n",
              "            <td>Mumbai</td>\n",
              "            <td>India</td>\n",
              "        </tr>\n",
              "    </tbody>\n",
              "</table>"
            ]
          },
          "metadata": {},
          "execution_count": 47
        }
      ]
    },
    {
      "cell_type": "markdown",
      "source": [
        "g) The total annual rainfall for Cairo.\n",
        "___"
      ],
      "metadata": {
        "id": "evM1FMySyOeC"
      }
    },
    {
      "cell_type": "code",
      "source": [
        "%sql SELECT Sum(Rainfall) as Total_Annual_Rainfall FROM record WHERE City='Cairo';"
      ],
      "metadata": {
        "colab": {
          "base_uri": "https://localhost:8080/",
          "height": 95
        },
        "id": "PXBBOAN4yXec",
        "outputId": "92ba530f-cf99-43e2-95d3-32473d524d3f"
      },
      "execution_count": 48,
      "outputs": [
        {
          "output_type": "stream",
          "name": "stdout",
          "text": [
            " * sqlite://\n",
            "Done.\n"
          ]
        },
        {
          "output_type": "execute_result",
          "data": {
            "text/plain": [
              "[(27.6,)]"
            ],
            "text/html": [
              "<table>\n",
              "    <thead>\n",
              "        <tr>\n",
              "            <th>Total_Annual_Rainfall</th>\n",
              "        </tr>\n",
              "    </thead>\n",
              "    <tbody>\n",
              "        <tr>\n",
              "            <td>27.6</td>\n",
              "        </tr>\n",
              "    </tbody>\n",
              "</table>"
            ]
          },
          "metadata": {},
          "execution_count": 48
        }
      ]
    },
    {
      "cell_type": "markdown",
      "source": [
        "h) The total rainfall for each season\n",
        "___"
      ],
      "metadata": {
        "id": "cVVmpqZ6yRvA"
      }
    },
    {
      "cell_type": "code",
      "source": [
        "%sql SELECT Season, round(Sum(Rainfall),1) as Total_Rainfall FROM record GROUP BY Season;"
      ],
      "metadata": {
        "colab": {
          "base_uri": "https://localhost:8080/",
          "height": 158
        },
        "id": "wqQ258P_yZ7C",
        "outputId": "af05a524-cccb-4460-df05-44aea018eec6"
      },
      "execution_count": 49,
      "outputs": [
        {
          "output_type": "stream",
          "name": "stdout",
          "text": [
            " * sqlite://\n",
            "Done.\n"
          ]
        },
        {
          "output_type": "execute_result",
          "data": {
            "text/plain": [
              "[('Fall', 569.0), ('Spring', 192.3), ('Summer', 1706.5), ('Winter', 230.1)]"
            ],
            "text/html": [
              "<table>\n",
              "    <thead>\n",
              "        <tr>\n",
              "            <th>Season</th>\n",
              "            <th>Total_Rainfall</th>\n",
              "        </tr>\n",
              "    </thead>\n",
              "    <tbody>\n",
              "        <tr>\n",
              "            <td>Fall</td>\n",
              "            <td>569.0</td>\n",
              "        </tr>\n",
              "        <tr>\n",
              "            <td>Spring</td>\n",
              "            <td>192.3</td>\n",
              "        </tr>\n",
              "        <tr>\n",
              "            <td>Summer</td>\n",
              "            <td>1706.5</td>\n",
              "        </tr>\n",
              "        <tr>\n",
              "            <td>Winter</td>\n",
              "            <td>230.1</td>\n",
              "        </tr>\n",
              "    </tbody>\n",
              "</table>"
            ]
          },
          "metadata": {},
          "execution_count": 49
        }
      ]
    },
    {
      "cell_type": "markdown",
      "source": [
        "#Question 9\n",
        "Suppose list words is defined as follows:\n",
        "\n",
        "words = ['The', 'quick', 'brown', 'fox', 'jumps', 'over', 'the', 'lazy', 'dog']\n",
        "\n",
        "Write list comprehension expressions that use list words and generate the following lists:\n",
        "\n",
        "a)\t['THE', 'QUICK', 'BROWN', 'FOX', 'JUMPS', 'OVER', 'THE', 'LAZY', 'DOG']\n",
        "\n",
        "b)\t['the', 'quick', 'brown', 'fox', 'jumps', 'over', 'the', 'lazy', 'dog']\n",
        "\n",
        "c)\t[3, 5, 5, 3, 5, 4, 3, 4, 3] (the list of lengths of words in list\n",
        "words).\n",
        "\n",
        "d)\t[['THE', 'the', 3], ['QUICK', 'quick', 5], ['BROWN',\n",
        "'brown', 5], ['FOX', 'fox', 3], ['JUMPS', 'jumps', 5],\n",
        "['OVER', 'over', 4], ['THE', 'the', 3], ['LAZY', 'lazy',\n",
        "4], ['DOG', 'dog', 3]] (the list containing a list for every word of list words, where each list contains the word in uppercase and lowercase and the length of the word.)\n",
        "\n",
        "e)\t['The', 'quick', 'brown', 'fox', 'jumps', 'over', 'the', 'lazy', 'dog'] (the list of words in list words containing 4 or more characters.)\n"
      ],
      "metadata": {
        "id": "eICNcrtiUagr"
      }
    },
    {
      "cell_type": "code",
      "source": [
        "words = ['The', 'quick', 'brown', 'fox', 'jumps', 'over','the', 'lazy', 'dog']"
      ],
      "metadata": {
        "id": "H3qmXKq3VIO8"
      },
      "execution_count": 59,
      "outputs": []
    },
    {
      "cell_type": "markdown",
      "source": [
        "a) ['THE', 'QUICK', 'BROWN', 'FOX', 'JUMPS', 'OVER', 'THE', 'LAZY', 'DOG']\n",
        "___"
      ],
      "metadata": {
        "id": "M812MAWRzvgN"
      }
    },
    {
      "cell_type": "code",
      "source": [
        "print([L.upper() for L in words],\"\\n\")"
      ],
      "metadata": {
        "colab": {
          "base_uri": "https://localhost:8080/"
        },
        "id": "6uDHNmySzZrf",
        "outputId": "7332244a-43c4-4bb0-bd65-2ac38d5e7e01"
      },
      "execution_count": 60,
      "outputs": [
        {
          "output_type": "stream",
          "name": "stdout",
          "text": [
            "Uppercase:\n",
            "['THE', 'QUICK', 'BROWN', 'FOX', 'JUMPS', 'OVER', 'THE', 'LAZY', 'DOG'] \n",
            "\n"
          ]
        }
      ]
    },
    {
      "cell_type": "markdown",
      "source": [
        "b) ['the', 'quick', 'brown', 'fox', 'jumps', 'over', 'the', 'lazy', 'dog']\n",
        "___"
      ],
      "metadata": {
        "id": "WVPACkMiz06O"
      }
    },
    {
      "cell_type": "code",
      "source": [
        "print(\"Lowercase:\")\n",
        "print([L.lower() for L in words],\"\\n\")"
      ],
      "metadata": {
        "colab": {
          "base_uri": "https://localhost:8080/"
        },
        "id": "7ZzYMIn6zd3r",
        "outputId": "e9f23ca5-f713-41ce-e121-46748ef96a13"
      },
      "execution_count": 61,
      "outputs": [
        {
          "output_type": "stream",
          "name": "stdout",
          "text": [
            "Lowercase:\n",
            "['the', 'quick', 'brown', 'fox', 'jumps', 'over', 'the', 'lazy', 'dog'] \n",
            "\n"
          ]
        }
      ]
    },
    {
      "cell_type": "markdown",
      "source": [
        "c) [3, 5, 5, 3, 5, 4, 3, 4, 3] (the list of lengths of words in list words).\n",
        "___"
      ],
      "metadata": {
        "id": "ndd41Fi2z2QO"
      }
    },
    {
      "cell_type": "code",
      "source": [
        "print(\"Length of each word\")\n",
        "print([len(L) for L in words],\"\\n\")"
      ],
      "metadata": {
        "colab": {
          "base_uri": "https://localhost:8080/"
        },
        "id": "mVbfQ900zjf6",
        "outputId": "c66e2bba-2f2e-4ff8-9daf-143285a8d58e"
      },
      "execution_count": 62,
      "outputs": [
        {
          "output_type": "stream",
          "name": "stdout",
          "text": [
            "Length of each word\n",
            "[3, 5, 5, 3, 5, 4, 3, 4, 3] \n",
            "\n"
          ]
        }
      ]
    },
    {
      "cell_type": "markdown",
      "source": [
        "d) [['THE', 'the', 3], ['QUICK', 'quick', 5], ['BROWN', 'brown', 5], ['FOX', 'fox', 3], ['JUMPS', 'jumps', 5], ['OVER', 'over', 4], ['THE', 'the', 3], ['LAZY', 'lazy', 4], ['DOG', 'dog', 3]] (the list containing a list for every word of list words, where each list contains the word in uppercase and lowercase and the length of the word.)\n",
        "___"
      ],
      "metadata": {
        "id": "LvQJJnj1z3aT"
      }
    },
    {
      "cell_type": "code",
      "source": [
        "print(\"The list containing a list for every word of list words: \")\n",
        "print([[L.upper(), L.lower(), len(L)] for L in words],\"\\n\")"
      ],
      "metadata": {
        "colab": {
          "base_uri": "https://localhost:8080/"
        },
        "id": "5XqMqSTQzlzn",
        "outputId": "20b9bfb2-1673-4d1e-d151-5e8411186bf1"
      },
      "execution_count": 63,
      "outputs": [
        {
          "output_type": "stream",
          "name": "stdout",
          "text": [
            "The list containing a list for every word of list words: \n",
            "[['THE', 'the', 3], ['QUICK', 'quick', 5], ['BROWN', 'brown', 5], ['FOX', 'fox', 3], ['JUMPS', 'jumps', 5], ['OVER', 'over', 4], ['THE', 'the', 3], ['LAZY', 'lazy', 4], ['DOG', 'dog', 3]] \n",
            "\n"
          ]
        }
      ]
    },
    {
      "cell_type": "markdown",
      "source": [
        "e) ['The', 'quick', 'brown', 'fox', 'jumps', 'over', 'the', 'lazy', 'dog'] (the list of words in list words containing 4 or more characters.)\n",
        "___"
      ],
      "metadata": {
        "id": "HlCHiNyfz4VN"
      }
    },
    {
      "cell_type": "code",
      "source": [
        "print(\"words containing 4 or more characters:\")\n",
        "print([L for L in words if len(L)>=4])"
      ],
      "metadata": {
        "colab": {
          "base_uri": "https://localhost:8080/"
        },
        "id": "Acn01Ln0zoCl",
        "outputId": "f28a95ab-12ff-474a-dd8a-0918e9485706"
      },
      "execution_count": 64,
      "outputs": [
        {
          "output_type": "stream",
          "name": "stdout",
          "text": [
            "words containing 4 or more characters:\n",
            "['quick', 'brown', 'jumps', 'over', 'lazy']\n"
          ]
        }
      ]
    }
  ]
}